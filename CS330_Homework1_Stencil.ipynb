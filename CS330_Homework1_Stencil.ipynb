{
  "nbformat": 4,
  "nbformat_minor": 0,
  "metadata": {
    "colab": {
      "name": "CS330_Homework1_Stencil.ipynb",
      "provenance": [],
      "collapsed_sections": [],
      "include_colab_link": true
    },
    "kernelspec": {
      "name": "python3",
      "display_name": "Python 3"
    },
    "accelerator": "GPU"
  },
  "cells": [
    {
      "cell_type": "markdown",
      "metadata": {
        "id": "view-in-github",
        "colab_type": "text"
      },
      "source": [
        "<a href=\"https://colab.research.google.com/github/jiwoncpark/cs330-deep-multitask-meta-learning/blob/master/CS330_Homework1_Stencil.ipynb\" target=\"_parent\"><img src=\"https://colab.research.google.com/assets/colab-badge.svg\" alt=\"Open In Colab\"/></a>"
      ]
    },
    {
      "cell_type": "markdown",
      "metadata": {
        "id": "JvkoC8rAYBE7"
      },
      "source": [
        "\n",
        "##Setup\n",
        "\n",
        "You will need to make a copy of this Colab notebook in your Google Drive before you can edit the homework files. You can do so with **File &rarr; Save a copy in Drive**.\n"
      ]
    },
    {
      "cell_type": "code",
      "metadata": {
        "id": "-Q4lGYC_E6QQ",
        "outputId": "a7fcf711-a525-43c1-be66-2836d413c77f",
        "colab": {
          "base_uri": "https://localhost:8080/",
          "height": 52
        }
      },
      "source": [
        "import os\n",
        "from google_drive_downloader import GoogleDriveDownloader as gdd\n",
        "\n",
        "# Need to download the Omniglot dataset -- DON'T MODIFY THIS CELL\n",
        "if not os.path.isdir('./omniglot_resized'):\n",
        "    gdd.download_file_from_google_drive(file_id='1iaSFXIYC3AB8q9K_M-oVMa4pmB7yKMtI',\n",
        "                                        dest_path='./omniglot_resized.zip',\n",
        "                                        unzip=True)\n",
        "    \n",
        "assert os.path.isdir('./omniglot_resized')"
      ],
      "execution_count": 1,
      "outputs": [
        {
          "output_type": "stream",
          "text": [
            "Downloading 1iaSFXIYC3AB8q9K_M-oVMa4pmB7yKMtI into ./omniglot_resized.zip... Done.\n",
            "Unzipping...Done.\n"
          ],
          "name": "stdout"
        }
      ]
    },
    {
      "cell_type": "code",
      "metadata": {
        "id": "ucYsULp9HUJy"
      },
      "source": [
        "import numpy as np\n",
        "import os\n",
        "import random\n",
        "import tensorflow as tf\n",
        "from scipy import misc\n",
        "\n",
        "\n",
        "def get_images(paths, labels, nb_samples=None, shuffle=True):\n",
        "    \"\"\"\n",
        "    Takes a set of character folders and labels and returns paths to image files\n",
        "    paired with labels.\n",
        "    Args:\n",
        "        paths: A list of character folders\n",
        "        labels: List or numpy array of same length as paths\n",
        "        nb_samples: Number of images to retrieve per character\n",
        "    Returns:\n",
        "        List of (label, image_path) tuples\n",
        "    \"\"\"\n",
        "    if nb_samples is not None:\n",
        "        sampler = lambda x: random.sample(x, nb_samples)\n",
        "    else:\n",
        "        sampler = lambda x: x\n",
        "    images_labels = [(i, os.path.join(path, image))\n",
        "                     for i, path in zip(labels, paths)\n",
        "                     for image in sampler(os.listdir(path))]\n",
        "    if shuffle:\n",
        "        random.shuffle(images_labels)\n",
        "    return images_labels\n",
        "\n",
        "\n",
        "def image_file_to_array(filename, dim_input):\n",
        "    \"\"\"\n",
        "    Takes an image path and returns numpy array\n",
        "    Args:\n",
        "        filename: Image filename\n",
        "        dim_input: Flattened shape of image\n",
        "    Returns:\n",
        "        1 channel image\n",
        "    \"\"\"\n",
        "    import imageio\n",
        "    image = imageio.imread(filename)  # misc.imread(filename)\n",
        "    image = image.reshape([dim_input])\n",
        "    image = image.astype(np.float32) / 255.0\n",
        "    image = 1.0 - image\n",
        "    return image\n",
        "\n",
        "\n",
        "class DataGenerator(object):\n",
        "    \"\"\"\n",
        "    Data Generator capable of generating batches of Omniglot data.\n",
        "    A \"class\" is considered a class of omniglot digits.\n",
        "    \"\"\"\n",
        "\n",
        "    def __init__(self, num_classes, num_samples_per_class, config={}):\n",
        "        \"\"\"\n",
        "        Args:\n",
        "            num_classes: Number of classes for classification (K-way)\n",
        "            num_samples_per_class: num samples to generate per class in one batch\n",
        "            batch_size: size of meta batch size (e.g. number of functions)\n",
        "        \"\"\"\n",
        "        self.num_samples_per_class = num_samples_per_class\n",
        "        self.num_classes = num_classes\n",
        "\n",
        "        data_folder = config.get('data_folder', './omniglot_resized')\n",
        "        self.img_size = config.get('img_size', (28, 28))\n",
        "\n",
        "        self.dim_input = np.prod(self.img_size)\n",
        "        self.dim_output = self.num_classes\n",
        "\n",
        "        # List of length 1623 (for 1623 characters)\n",
        "        # Each element is a path nested with language (family),\n",
        "        # e.g. ./omniglot_resized/Braille/character23\n",
        "        character_folders = [os.path.join(data_folder, family, character)\n",
        "                             for family in os.listdir(data_folder)\n",
        "                             if os.path.isdir(os.path.join(data_folder, family))\n",
        "                             for character in os.listdir(os.path.join(data_folder, family))\n",
        "                             if os.path.isdir(os.path.join(data_folder, family, character))]\n",
        "\n",
        "        random.seed(1)\n",
        "        random.shuffle(character_folders)\n",
        "        num_val = 100\n",
        "        num_train = 1100\n",
        "        self.metatrain_character_folders = character_folders[: num_train]\n",
        "        self.metaval_character_folders = character_folders[\n",
        "            num_train:num_train + num_val]\n",
        "        self.metatest_character_folders = character_folders[\n",
        "            num_train + num_val:]\n",
        "\n",
        "    def sample_batch(self, batch_type, batch_size):\n",
        "        \"\"\"\n",
        "        Samples a batch for training, validation, or testing\n",
        "        Args:\n",
        "            batch_type: train/val/test\n",
        "        Returns:\n",
        "            A a tuple of (1) Image batch and (2) Label batch where\n",
        "            image batch has shape [B, K, N, 784] and label batch has shape [B, K, N, N]\n",
        "            where B is batch size, K is number of samples per class, N is number of classes\n",
        "        \"\"\"\n",
        "        if batch_type == \"train\":\n",
        "            folders = self.metatrain_character_folders\n",
        "        elif batch_type == \"val\":\n",
        "            folders = self.metaval_character_folders\n",
        "        else:\n",
        "            folders = self.metatest_character_folders\n",
        "\n",
        "        #############################\n",
        "        #### YOUR CODE GOES HERE ####\n",
        "        # Initialize image and label arrays to output\n",
        "        all_image_batches = np.empty(batch_size, self.num_samples_per_class, self.num_classes, self.dim_input)\n",
        "        all_label_batches = np.empty(batch_size, self.num_samples_per_class, self.num_classes, self.num_classes)\n",
        "        for b in range(batch_size):\n",
        "          # Sample K images in N classes from the correct folder\n",
        "          sampled_class_folders = folders[random.sample(range(len(folders)), self.num_classes)] # folders of sampled N classes for this batch\n",
        "          labels = np.arange(self.num_classes) # arbitrary integer labels for the N classes\n",
        "          labels_images = get_images(sampled_class_folders, labels, nb_samples=self.num_samples_per_class, shuffle=False)\n",
        "          for i, (label, img_path) in enumerate(labels_images):\n",
        "            img = image_file_to_array(img_path, self.dim_input).flatten()\n",
        "            all_image_batches[b, i, label, :] = img\n",
        "            one_hot = np.eye(self.num_classes)[label]\n",
        "            all_label_batches[b, i, label, :] = one_hot\n",
        "        #############################\n",
        "\n",
        "        return all_image_batches.astype(np.float32), all_label_batches.astype(np.float32)\n"
      ],
      "execution_count": 12,
      "outputs": []
    },
    {
      "cell_type": "code",
      "metadata": {
        "id": "oLH5MOFte2Tf",
        "outputId": "c3eec436-da84-4656-be06-588cd4c1db50",
        "colab": {
          "base_uri": "https://localhost:8080/",
          "height": 34
        }
      },
      "source": [
        "config = {}\n",
        "data_folder = config.get('data_folder', './omniglot_resized')\n",
        "character_folders = [os.path.join(data_folder, family, character)\n",
        "                             for family in os.listdir(data_folder)\n",
        "                             if os.path.isdir(os.path.join(data_folder, family))\n",
        "                             for character in os.listdir(os.path.join(data_folder, family))\n",
        "                             if os.path.isdir(os.path.join(data_folder, family, character))]\n",
        "print(len(character_folders), character_folders[0])"
      ],
      "execution_count": 6,
      "outputs": [
        {
          "output_type": "stream",
          "text": [
            "1623 ./omniglot_resized/Braille/character23\n"
          ],
          "name": "stdout"
        }
      ]
    },
    {
      "cell_type": "code",
      "metadata": {
        "id": "FucwOC73mVzY",
        "outputId": "72f5a077-e789-4ed1-9a4d-aab33d57c134",
        "colab": {
          "base_uri": "https://localhost:8080/",
          "height": 104
        }
      },
      "source": [
        "character_folders[:5]"
      ],
      "execution_count": 15,
      "outputs": [
        {
          "output_type": "execute_result",
          "data": {
            "text/plain": [
              "['./omniglot_resized/Braille/character23',\n",
              " './omniglot_resized/Braille/character13',\n",
              " './omniglot_resized/Braille/character05',\n",
              " './omniglot_resized/Braille/character09',\n",
              " './omniglot_resized/Braille/character22']"
            ]
          },
          "metadata": {
            "tags": []
          },
          "execution_count": 15
        }
      ]
    },
    {
      "cell_type": "code",
      "metadata": {
        "id": "9KxYm-FqfYnG",
        "outputId": "d8e26e51-139e-40a4-cf79-8277aa899f41",
        "colab": {
          "base_uri": "https://localhost:8080/",
          "height": 225
        }
      },
      "source": [
        "get_images(character_folders[:4], [3, 2, 0, 1], nb_samples=3, shuffle=True)"
      ],
      "execution_count": 18,
      "outputs": [
        {
          "output_type": "execute_result",
          "data": {
            "text/plain": [
              "[(3, './omniglot_resized/Braille/character23/0214_13.png'),\n",
              " (2, './omniglot_resized/Braille/character13/0204_12.png'),\n",
              " (2, './omniglot_resized/Braille/character13/0204_19.png'),\n",
              " (0, './omniglot_resized/Braille/character05/0196_16.png'),\n",
              " (0, './omniglot_resized/Braille/character05/0196_04.png'),\n",
              " (3, './omniglot_resized/Braille/character23/0214_09.png'),\n",
              " (1, './omniglot_resized/Braille/character09/0200_19.png'),\n",
              " (0, './omniglot_resized/Braille/character05/0196_15.png'),\n",
              " (1, './omniglot_resized/Braille/character09/0200_09.png'),\n",
              " (1, './omniglot_resized/Braille/character09/0200_08.png'),\n",
              " (3, './omniglot_resized/Braille/character23/0214_11.png'),\n",
              " (2, './omniglot_resized/Braille/character13/0204_04.png')]"
            ]
          },
          "metadata": {
            "tags": []
          },
          "execution_count": 18
        }
      ]
    },
    {
      "cell_type": "code",
      "metadata": {
        "id": "1yvqTOqTHVA9"
      },
      "source": [
        "import numpy as np\n",
        "import random\n",
        "import tensorflow as tf\n",
        "from tensorflow.keras import layers\n",
        "\n",
        "\n",
        "class MANN(tf.keras.Model):\n",
        "\n",
        "    def __init__(self, num_classes, samples_per_class):\n",
        "        super(MANN, self).__init__()\n",
        "        self.num_classes = num_classes\n",
        "        self.samples_per_class = samples_per_class\n",
        "        self.layer1 = tf.keras.layers.LSTM(128, return_sequences=True)\n",
        "        self.layer2 = tf.keras.layers.LSTM(num_classes, return_sequences=True)\n",
        "\n",
        "    def call(self, input_images, input_labels):\n",
        "        \"\"\"\n",
        "        MANN\n",
        "        Args:\n",
        "            input_images: [B, K+1, N, 784] flattened images\n",
        "            labels: [B, K+1, N, N] ground truth labels\n",
        "        Returns:\n",
        "            [B, K+1, N, N] predictions\n",
        "        \"\"\"\n",
        "        #############################\n",
        "        #### YOUR CODE GOES HERE ####\n",
        "        pass\n",
        "        #############################\n",
        "        return out\n",
        "\n",
        "    def loss_function(self, preds, labels):\n",
        "        \"\"\"\n",
        "        Computes MANN loss\n",
        "        Args:\n",
        "            preds: [B, K+1, N, N] network output\n",
        "            labels: [B, K+1, N, N] labels\n",
        "        Returns:\n",
        "            scalar loss\n",
        "        \"\"\"\n",
        "        #############################\n",
        "        #### YOUR CODE GOES HERE ####\n",
        "        pass\n",
        "        #############################\n",
        "\n",
        "\n",
        "@tf.function\n",
        "def train_step(images, labels, model, optim, eval=False):\n",
        "    with tf.GradientTape() as tape:\n",
        "        predictions = model(images, labels)\n",
        "        loss = model.loss_function(predictions, labels)\n",
        "    if not eval:\n",
        "        gradients = tape.gradient(loss, model.trainable_variables)\n",
        "        optim.apply_gradients(zip(gradients, model.trainable_variables))\n",
        "    return predictions, loss\n",
        "\n",
        "\n",
        "def main(num_classes=5, num_samples=1, meta_batch_size=16, random_seed=1234):\n",
        "    random.seed(random_seed)\n",
        "    np.random.seed(random_seed)\n",
        "    tf.random.set_seed(random_seed)\n",
        "\n",
        "    data_generator = DataGenerator(num_classes, num_samples + 1)\n",
        "\n",
        "    o = MANN(num_classes, num_samples + 1)\n",
        "    optim = tf.keras.optimizers.Adam(learning_rate=0.001)\n",
        "\n",
        "    for step in range(25000):\n",
        "        i, l = data_generator.sample_batch('train', meta_batch_size)\n",
        "        _, ls = train_step(i, l, o, optim)\n",
        "\n",
        "        if (step + 1) % 100 == 0:\n",
        "            print(\"*\" * 5 + \"Iter \" + str(step + 1) + \"*\" * 5)\n",
        "            i, l = data_generator.sample_batch('test', 100)\n",
        "            pred, tls = train_step(i, l, o, optim, eval=True)\n",
        "            print(\"Train Loss:\", ls.numpy(), \"Test Loss:\", tls.numpy())\n",
        "            pred = tf.reshape(pred, [-1, num_samples + 1, num_classes, num_classes])\n",
        "            pred = tf.math.argmax(pred[:, -1, :, :], axis=2)\n",
        "            l = tf.math.argmax(l[:, -1, :, :], axis=2)\n",
        "            print(\"Test Accuracy\", tf.reduce_mean(tf.cast(tf.math.equal(pred, l), tf.float32)).numpy())\n"
      ],
      "execution_count": null,
      "outputs": []
    },
    {
      "cell_type": "code",
      "metadata": {
        "id": "si10vH_0SH_y"
      },
      "source": [
        "import matplotlib.pyplot as plt\n",
        "results = main(num_classes=5, num_samples=1, meta_batch_size=16, random_seed=1234)\n",
        "#############################\n",
        "#### YOUR CODE GOES HERE ####\n",
        "# pass\n",
        "#############################"
      ],
      "execution_count": null,
      "outputs": []
    }
  ]
}